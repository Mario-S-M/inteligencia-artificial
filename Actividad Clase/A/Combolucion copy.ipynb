{
 "cells": [
  {
   "cell_type": "code",
   "execution_count": null,
   "metadata": {
    "vscode": {
     "languageId": "plaintext"
    }
   },
   "outputs": [],
   "source": [
    "import cv2 as cv\n",
    "import numpy as np"
   ]
  },
  {
   "cell_type": "code",
   "execution_count": null,
   "metadata": {
    "vscode": {
     "languageId": "plaintext"
    }
   },
   "outputs": [],
   "source": [
    "cap = cv.VideoCapture(0)\n",
    "while True:\n",
    "    ret, img = cap.read()\n",
    "    if(ret):\n",
    "        gris=cv.cvtColor(img, cv.COLORBGR2GRAY)\n",
    "        cv.imshow('salida', img)\n",
    "        cv.imshow('gray', gris)\n",
    "        k = cv.waitKey(1)& 0xFF\n",
    "        if k==27:\n",
    "            break\n",
    "        else:\n",
    "            break"
   ]
  }
 ],
 "metadata": {
  "language_info": {
   "name": "python"
  }
 },
 "nbformat": 4,
 "nbformat_minor": 2
}
