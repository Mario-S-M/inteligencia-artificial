{
 "cells": [
  {
   "cell_type": "code",
   "execution_count": null,
   "metadata": {},
   "outputs": [
    {
     "ename": "KeyboardInterrupt",
     "evalue": "",
     "output_type": "error",
     "traceback": [
      "\u001b[31m---------------------------------------------------------------------------\u001b[39m",
      "\u001b[31mKeyboardInterrupt\u001b[39m                         Traceback (most recent call last)",
      "\u001b[36mCell\u001b[39m\u001b[36m \u001b[39m\u001b[32mIn[1]\u001b[39m\u001b[32m, line 11\u001b[39m\n\u001b[32m      9\u001b[39m ret, frame = cap.read()\n\u001b[32m     10\u001b[39m gray = cv.cvtColor(frame, cv.COLOR_BGR2GRAY)\n\u001b[32m---> \u001b[39m\u001b[32m11\u001b[39m rostros = \u001b[43mrostro\u001b[49m\u001b[43m.\u001b[49m\u001b[43mdetectMultiScale\u001b[49m\u001b[43m(\u001b[49m\u001b[43mgray\u001b[49m\u001b[43m,\u001b[49m\u001b[43m \u001b[49m\u001b[32;43m1.3\u001b[39;49m\u001b[43m,\u001b[49m\u001b[43m \u001b[49m\u001b[32;43m5\u001b[39;49m\u001b[43m)\u001b[49m\n\u001b[32m     12\u001b[39m \u001b[38;5;28;01mfor\u001b[39;00m(x, y, w, h) \u001b[38;5;129;01min\u001b[39;00m rostros:\n\u001b[32m     13\u001b[39m    \u001b[38;5;66;03m# Comentar esto para que no salgan los recuadros de color verde\u001b[39;00m\n\u001b[32m     14\u001b[39m    frame = cv.rectangle(frame, (x,y), (x+w, y+h), (\u001b[32m0\u001b[39m, \u001b[32m255\u001b[39m, \u001b[32m0\u001b[39m), \u001b[32m2\u001b[39m)\n",
      "\u001b[31mKeyboardInterrupt\u001b[39m: "
     ]
    }
   ],
   "source": [
    "import numpy as np\n",
    "import cv2 as cv\n",
    "import math \n",
    "\n",
    "rostro = cv.CascadeClassifier('haarcascade_frontalface_alt.xml')\n",
    "cap = cv.VideoCapture(0)\n",
    "i = 0  \n",
    "while True:\n",
    "    ret, frame = cap.read()\n",
    "    gray = cv.cvtColor(frame, cv.COLOR_BGR2GRAY)\n",
    "    rostros = rostro.detectMultiScale(gray, 1.3, 5)\n",
    "    for(x, y, w, h) in rostros:\n",
    "       # Comentar esto para que no salgan los recuadros de color verde\n",
    "       frame = cv.rectangle(frame, (x,y), (x+w, y+h), (0, 255, 0), 2)\n",
    "       frame2 = frame[ y:y+h, x:x+w]\n",
    "       #frame3 = frame[x+30:x+w-30, y+30:y+h-30]\n",
    "       frame2 = cv.resize(frame2, (100, 100), interpolation=cv.INTER_AREA)\n",
    "       \n",
    "        \n",
    "       if(i%5 == 0):\n",
    "        cv.imwrite('/imagenes/Mario/Foto'+str(i)+'.jpg', frame)\n",
    "        cv.imshow('rostror', frame2)\n",
    "    cv.imshow('rostros', frame)\n",
    "    i = i+1\n",
    "    k = cv.waitKey(1)\n",
    "    if k == 27:\n",
    "        break\n",
    "cap.release()\n",
    "cv.destroyAllWindows()"
   ]
  }
 ],
 "metadata": {
  "kernelspec": {
   "display_name": ".venv",
   "language": "python",
   "name": "python3"
  },
  "language_info": {
   "codemirror_mode": {
    "name": "ipython",
    "version": 3
   },
   "file_extension": ".py",
   "mimetype": "text/x-python",
   "name": "python",
   "nbconvert_exporter": "python",
   "pygments_lexer": "ipython3",
   "version": "3.13.2"
  }
 },
 "nbformat": 4,
 "nbformat_minor": 2
}
