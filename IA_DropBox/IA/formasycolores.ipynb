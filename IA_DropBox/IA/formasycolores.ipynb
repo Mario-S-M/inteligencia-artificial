{
 "cells": [
  {
   "cell_type": "markdown",
   "metadata": {},
   "source": [
    "hola mundo "
   ]
  },
  {
   "cell_type": "code",
   "execution_count": 4,
   "metadata": {},
   "outputs": [],
   "source": [
    "import cv2 \n",
    "import matplotlib.pyplot as plt\n",
    "import numpy as np\n"
   ]
  },
  {
   "cell_type": "code",
   "execution_count": 5,
   "metadata": {
    "scrolled": true
   },
   "outputs": [
    {
     "name": "stdout",
     "output_type": "stream",
     "text": [
      "img_hsv[ 66 133 138]\n"
     ]
    },
    {
     "ename": "KeyboardInterrupt",
     "evalue": "",
     "output_type": "error",
     "traceback": [
      "\u001b[0;31m---------------------------------------------------------------------------\u001b[0m",
      "\u001b[0;31mKeyboardInterrupt\u001b[0m                         Traceback (most recent call last)",
      "\u001b[0;32m<ipython-input-5-67991f780ec4>\u001b[0m in \u001b[0;36m<module>\u001b[0;34m\u001b[0m\n\u001b[1;32m     43\u001b[0m             \u001b[0mrecorre\u001b[0m\u001b[0;34m(\u001b[0m\u001b[0mx\u001b[0m\u001b[0;34m,\u001b[0m\u001b[0my\u001b[0m\u001b[0;34m)\u001b[0m\u001b[0;34m\u001b[0m\u001b[0;34m\u001b[0m\u001b[0m\n\u001b[1;32m     44\u001b[0m             \u001b[0mcv2\u001b[0m\u001b[0;34m.\u001b[0m\u001b[0mimshow\u001b[0m\u001b[0;34m(\u001b[0m\u001b[0;34m'test'\u001b[0m\u001b[0;34m,\u001b[0m \u001b[0mimga\u001b[0m\u001b[0;34m)\u001b[0m\u001b[0;34m\u001b[0m\u001b[0;34m\u001b[0m\u001b[0m\n\u001b[0;32m---> 45\u001b[0;31m             \u001b[0mcv2\u001b[0m\u001b[0;34m.\u001b[0m\u001b[0mwaitKey\u001b[0m\u001b[0;34m(\u001b[0m\u001b[0;36m100\u001b[0m\u001b[0;34m)\u001b[0m\u001b[0;34m\u001b[0m\u001b[0;34m\u001b[0m\u001b[0m\n\u001b[0m\u001b[1;32m     46\u001b[0m \u001b[0;34m\u001b[0m\u001b[0m\n\u001b[1;32m     47\u001b[0m \u001b[0;31m#for i,j in zip(range(maskq.shape[0]), range(mask.shape[1])):\u001b[0m\u001b[0;34m\u001b[0m\u001b[0;34m\u001b[0m\u001b[0;34m\u001b[0m\u001b[0m\n",
      "\u001b[0;31mKeyboardInterrupt\u001b[0m: "
     ]
    }
   ],
   "source": [
    "   \n",
    "\n",
    "\n",
    "img = cv2.imread('Hola.jpg',0)\n",
    "imga = np.ones_like() * 255\n",
    "x = img.shape[0]\n",
    "y = img.shape[1]\n",
    "\n",
    "#for x in range(mask.shape[0]):\n",
    "#    for y in range(mask.shape[1]):\n",
    "#        if mask[x,y] < 200:\n",
    "#            mask[x,y]=0\n",
    "#        else:\n",
    "#            mask[x,y]=255 \n",
    "\n",
    "#print(mask.shape[0], mask.shape[1])\n",
    "umbral_bajo = (0,60,60)\n",
    "umbral_alto = (10,255,255)\n",
    "\n",
    "img_hsv = cv2.cvtColor(img, cv2.COLOR_BGR2HSV) \n",
    "print(\"img_hsv\"+str(img_hsv[20,20]))\n",
    "mask = cv2.inRange(img_hsv, umbral_bajo, umbral_alto)\n",
    "x = 0\n",
    "y = 0\n",
    "\n",
    "def recorre(i,j):\n",
    "    if(mask[i,j] == 255):\n",
    "        mask[x+,y-]=150\n",
    "        imga[i,j]= 0\n",
    "        recorre(i+1, j+1)\n",
    "        recorre(i-1, j-1)\n",
    "        recorre(i-1, j+1)\n",
    "        recorre(i+1, j-1)\n",
    "        \n",
    "        #recorre(i+1,j)\n",
    "        #recorre(i, j-1)\n",
    "        #recorre(i-1, j)\n",
    "        #recorre(i,j+1)\n",
    "        \n",
    "        #print(\"el valor x es\" + str(x) , \"el valor de y es\" + str(y))\n",
    "for x in range(mask.shape[0]):\n",
    "    for y in range(mask.shape[1]):\n",
    "        #print(mask[x,y])\n",
    "#        \n",
    "        if(mask[x,y] == 255):\n",
    "            recorre(x,y)\n",
    "            cv2.imshow('test', imga)\n",
    "            cv2.waitKey(100)\n",
    "\n",
    "#for i,j in zip(range(maskq.shape[0]), range(mask.shape[1])):\n",
    "#    mask[i,j] = 180\n",
    "print('mascara '+ str(mask[27,22]))\n",
    "#recorre(27,22)\n",
    "#cv2.imshow('ejemplo',  img)\n",
    "cv2.imshow('mask', mask)\n",
    "#cv2.imshow('res2', imga)\n",
    "cv2.waitKey(0)\n",
    "cv2.destroyAllWindows()\n",
    "\n",
    "\n",
    "#plt.imshow(img) "
   ]
  },
  {
   "cell_type": "code",
   "execution_count": null,
   "metadata": {},
   "outputs": [],
   "source": [
    "img = cv2.cvtColor(img, cv2.COLOR_BGR2RGB)\n",
    "#cv2.imshow('man', img)\n",
    "#plt.imshow(img)"
   ]
  },
  {
   "cell_type": "code",
   "execution_count": null,
   "metadata": {},
   "outputs": [],
   "source": [
    "img_hsv = cv2.cvtColor(img, cv2.COLOR_RGB2HSV) \n",
    "plt.imshow(img_hsv)"
   ]
  },
  {
   "cell_type": "code",
   "execution_count": null,
   "metadata": {},
   "outputs": [],
   "source": [
    "# Elegimos el umbral de verde en HSV\n",
    "umbral_bajo = (25,60,60)\n",
    "umbral_alto = (35,255,255)\n",
    "\n",
    "ub = (170,60,60)\n",
    "ua = (180,255,255)\n",
    "# hacemos la mask y filtramos en la original\n",
    "mask = cv2.inRange(img_hsv, umbral_bajo, umbral_alto)\n",
    "xm, ym = mask.shape[:2]\n",
    "print(xm, ym, mask[int(xm/2), int(ym/2)])\n",
    "cont1=0\n",
    "cont0=0\n",
    "\n",
    "for x in range(xm):\n",
    "    for y in range(ym):\n",
    "        if mask[x,y] == 255:\n",
    "            cont1 = cont1 + 1 \n",
    "        else:\n",
    "            cont0 = cont0 + 1        \n",
    "        \n",
    "print(cont1, cont0)        \n",
    "#mask2 = cv2.inRange(img_hsv, ub, ua)\n",
    "\n",
    "#mask = mask1 + mask2\n",
    "\n",
    "#plt.imshow(mask)\n",
    "res = cv2.bitwise_and(img, img, mask=mask)\n",
    "res = res = cv2.cvtColor(res, cv2.COLOR_BGR2RGB) \n",
    "\n",
    "#cv2.imshow('mask1', mask1)\n",
    "#cv2.imshow('mask2', mask2)\n",
    "cv2.imshow('mask', mask)\n",
    "cv2.imshow('res', res)\n",
    "cv2.imshow('img', img)\n",
    "\n",
    "cv2.waitKey(0)\n",
    "cv2.destroyAllWindows()\n"
   ]
  },
  {
   "cell_type": "code",
   "execution_count": null,
   "metadata": {
    "scrolled": true
   },
   "outputs": [],
   "source": [
    "plt.imshow(res)"
   ]
  },
  {
   "cell_type": "code",
   "execution_count": null,
   "metadata": {},
   "outputs": [],
   "source": [
    "plt.subplot(1, 2, 1)\n",
    "plt.imshow(mask, cmap=\"gray\")\n",
    "plt.subplot(1, 2, 2)\n",
    "plt.imshow(res)\n",
    "plt.show()"
   ]
  },
  {
   "cell_type": "code",
   "execution_count": null,
   "metadata": {},
   "outputs": [],
   "source": [
    "# Elegimos el umbral de rojo en HSV\n",
    "umbral_bajo = (170,100,100)\n",
    "umbral_alto = (179,255,255)\n",
    "# hacemos la mask y filtramos en la original\n",
    "mask = cv2.inRange(img_hsv, umbral_bajo, umbral_alto)\n",
    "res = cv2.bitwise_and(img, img, mask=mask)"
   ]
  },
  {
   "cell_type": "code",
   "execution_count": null,
   "metadata": {},
   "outputs": [],
   "source": [
    "plt.subplot(1, 2, 1)\n",
    "plt.imshow(mask, cmap=\"gray\")\n",
    "plt.subplot(1, 2, 2)\n",
    "plt.imshow(res)\n",
    "plt.show()"
   ]
  },
  {
   "cell_type": "code",
   "execution_count": null,
   "metadata": {},
   "outputs": [],
   "source": [
    "# Elegimos el umbral de rojo en HSV\n",
    "umbral_bajo1 = (170,100,100)\n",
    "umbral_alto1 = (179,255,255)\n",
    "# Elegimos el segundo umbral de rojo en HSV\n",
    "umbral_bajo2 = (0,100,100)\n",
    "umbral_alto2 = (10,255,255)\n",
    "# hacemos la mask y filtramos en la original\n",
    "mask1 = cv2.inRange(img_hsv, umbral_bajo1, umbral_alto1)\n",
    "mask2 = cv2.inRange(img_hsv, umbral_bajo2, umbral_alto2)\n",
    "mask = mask1 + mask2\n",
    "res = cv2.bitwise_and(img, img, mask=mask)"
   ]
  },
  {
   "cell_type": "code",
   "execution_count": null,
   "metadata": {},
   "outputs": [],
   "source": [
    "plt.subplot(1, 2, 1)\n",
    "plt.imshow(mask, cmap=\"gray\")\n",
    "plt.subplot(1, 2, 2)\n",
    "plt.imshow(res)\n",
    "plt.show()"
   ]
  },
  {
   "cell_type": "code",
   "execution_count": null,
   "metadata": {},
   "outputs": [],
   "source": [
    "import cv2\n",
    "import numpy as np\n",
    "from matplotlib import pyplot as plt\n",
    "\n",
    "img = cv2.imread('lena.png', cv2.IMREAD_GRAYSCALE)\n",
    "cv2.imshow('lena.png', img)\n",
    "\n",
    "hist = cv2.calcHist([img], [0], None, [256], [0, 256])\n",
    "plt.plot(hist, color='gray' )\n",
    "\n",
    "plt.xlabel('intensidad de iluminacion')\n",
    "plt.ylabel('cantidad de pixeles')\n",
    "plt.show()\n",
    "\n",
    "cv2.destroyAllWindows()"
   ]
  },
  {
   "cell_type": "code",
   "execution_count": null,
   "metadata": {},
   "outputs": [],
   "source": [
    "import cv2\n",
    "import numpy as np\n",
    "from matplotlib import pyplot as plt\n",
    "\n",
    "img = cv2.imread('lena.png')\n",
    "cv2.imshow('lena.jpg', img)\n",
    "\n",
    "color = ('b','g','r')\n",
    "\n",
    "for i, c in enumerate(color):\n",
    "    hist = cv2.calcHist([img], [i], None, [256], [0, 256])\n",
    "    plt.plot(hist, color = c)\n",
    "    plt.xlim([0,256])\n",
    "\n",
    "    \n",
    "cv2.imshow('lena', img)\n",
    "cv2.waitKey()    \n",
    "plt.show()\n",
    "cv2.destroyAllWindows()"
   ]
  },
  {
   "cell_type": "code",
   "execution_count": null,
   "metadata": {},
   "outputs": [],
   "source": [
    "plt.imshow(img)"
   ]
  },
  {
   "cell_type": "code",
   "execution_count": null,
   "metadata": {},
   "outputs": [],
   "source": [
    "import cv2 as cv \n",
    "\n",
    "img = cv.imread('cats.png', 0)\n",
    "cv.imshow('Hola', img)\n",
    "print(\"1 \"+str(img[10,10]))\n",
    "for x in range(img.shape[0]):\n",
    "    for y in range(img.shape[1]):\n",
    "        if img[x,y] < 200:\n",
    "            img[x,y]=0\n",
    "        else:\n",
    "            img[x,y]=255                \n",
    "                \n",
    "cv.imshow('Hola2', img)\n",
    "\n",
    "\n",
    "print(\"2 \"+str(img[10,10]))\n",
    "cv.waitKey(0)\n",
    "cv.destroyAllWindows()"
   ]
  },
  {
   "cell_type": "code",
   "execution_count": null,
   "metadata": {},
   "outputs": [],
   "source": []
  }
 ],
 "metadata": {
  "kernelspec": {
   "display_name": "Python 3",
   "language": "python",
   "name": "python3"
  },
  "language_info": {
   "codemirror_mode": {
    "name": "ipython",
    "version": 3
   },
   "file_extension": ".py",
   "mimetype": "text/x-python",
   "name": "python",
   "nbconvert_exporter": "python",
   "pygments_lexer": "ipython3",
   "version": "3.9.2"
  }
 },
 "nbformat": 4,
 "nbformat_minor": 2
}
